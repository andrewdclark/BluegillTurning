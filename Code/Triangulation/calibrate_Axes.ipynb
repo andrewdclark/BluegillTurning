{
 "cells": [
  {
   "cell_type": "code",
   "execution_count": 1,
   "metadata": {},
   "outputs": [],
   "source": [
    "import os\n",
    "import aniposelib\n",
    "import pandas as pd\n",
    "import numpy as np\n",
    "import cv2\n",
    "import matplotlib.pyplot as plt\n",
    "import re\n",
    "from sleap.io.dataset import Labels"
   ]
  },
  {
   "cell_type": "markdown",
   "metadata": {},
   "source": [
    "Load the calibration we did above. Make sure the file name is correct!"
   ]
  },
  {
   "cell_type": "code",
   "execution_count": null,
   "metadata": {},
   "outputs": [],
   "source": [
    "camgroup = aniposelib.cameras.CameraGroup.load('calibration.toml')"
   ]
  },
  {
   "cell_type": "markdown",
   "metadata": {},
   "source": [
    "Get points that correspond to axes. First use DLTdv8 to click the origin, x, y, and z axes in each camera. Then save out the points (there should be 4, each of which has x and y coordinates, for each camera). Then make the matrix below"
   ]
  },
  {
   "cell_type": "code",
   "execution_count": null,
   "metadata": {},
   "outputs": [],
   "source": [
    "axesmatrix_camA = np.array([[1842.750418, 722.254735], # x and y for origin\n",
    "                   [805.927509, 726.355984], # x and y for x axis \n",
    "                   [1919.302266, 761.723755],  # y axis \n",
    "                   [1847.094177, 122.106648] # z axis\n",
    "                   ])\n",
    "\n",
    "axesmatrix_camB = np.array([[1782.039109, 743.713296], # x and y for origin\n",
    "                   [721.762715, 739.281163], # x and y for x axis \n",
    "                   [1786.887934, 19.059557],  # y axis \n",
    "                   [1725.469484, 699.391967] # z axis\n",
    "                   ])\n",
    "\n",
    "axesmatrix_camC = np.array([[1435.280779, 646.727147], # x and y for origin\n",
    "                   [694.488074, 605.774238], # x and y for x axis \n",
    "                   [1171.289197, 662.328255],  # y axis \n",
    "                   [1448.749737, 117.264543] # z axis\n",
    "                   ])\n"
   ]
  },
  {
   "cell_type": "code",
   "execution_count": 4,
   "metadata": {},
   "outputs": [
    {
     "data": {
      "text/plain": [
       "(3, 4, 2)"
      ]
     },
     "execution_count": 4,
     "metadata": {},
     "output_type": "execute_result"
    }
   ],
   "source": [
    "axesmatrix = np.concatenate((axesmatrix_camA[np.newaxis, :, :], \n",
    "                axesmatrix_camB[np.newaxis, :, :], \n",
    "                axesmatrix_camC[np.newaxis, :, :]), axis=0)\n",
    "axesmatrix.shape"
   ]
  },
  {
   "cell_type": "code",
   "execution_count": 5,
   "metadata": {},
   "outputs": [
    {
     "name": "stderr",
     "output_type": "stream",
     "text": [
      "  0%|                                           | 0/4 [00:00<?, ?it/s]OMP: Info #276: omp_set_nested routine deprecated, please use omp_set_max_active_levels instead.\n",
      "100%|███████████████████████████████████| 4/4 [00:01<00:00,  2.93it/s]\n"
     ]
    }
   ],
   "source": [
    "axes3d = camgroup.triangulate(axesmatrix, progress=True, undistort=True)"
   ]
  },
  {
   "cell_type": "code",
   "execution_count": 6,
   "metadata": {},
   "outputs": [
    {
     "data": {
      "text/plain": [
       "array([[ 146.8303199 ,   92.60116797, 2168.96344215],\n",
       "       [-171.82292707,   88.03665844, 2158.2010572 ],\n",
       "       [ 147.79694645,   92.12648309, 1930.0812506 ],\n",
       "       [ 139.4547443 , -107.50678126, 2158.79100089]])"
      ]
     },
     "execution_count": 6,
     "metadata": {},
     "output_type": "execute_result"
    }
   ],
   "source": [
    "axes3d"
   ]
  }
 ],
 "metadata": {
  "kernelspec": {
   "display_name": "sleap",
   "language": "python",
   "name": "python3"
  },
  "language_info": {
   "codemirror_mode": {
    "name": "ipython",
    "version": 3
   },
   "file_extension": ".py",
   "mimetype": "text/x-python",
   "name": "python",
   "nbconvert_exporter": "python",
   "pygments_lexer": "ipython3",
   "version": "3.9.15"
  }
 },
 "nbformat": 4,
 "nbformat_minor": 2
}
